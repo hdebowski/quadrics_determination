{
  "nbformat": 4,
  "nbformat_minor": 0,
  "metadata": {
    "colab": {
      "provenance": []
    },
    "kernelspec": {
      "name": "python3",
      "display_name": "Python 3"
    },
    "language_info": {
      "name": "python"
    }
  },
  "cells": [
    {
      "cell_type": "markdown",
      "source": [
        "# **Determination of second-degree surface parameters (quadrics) by minimizing algebraic distances**\n",
        "Author: Hubert Dębowski"
      ],
      "metadata": {
        "id": "e9l1sBawYtkg"
      }
    },
    {
      "cell_type": "code",
      "execution_count": null,
      "metadata": {
        "id": "Ure4S9qTBQa4"
      },
      "outputs": [],
      "source": [
        "import numpy as np\n",
        "import cmath\n",
        "import math\n",
        "from scipy.linalg import sqrtm\n",
        "from scipy.optimize import minimize_scalar\n",
        "from math import sqrt"
      ]
    },
    {
      "cell_type": "markdown",
      "source": [
        "Data:"
      ],
      "metadata": {
        "id": "l2ZxTup5Yi1X"
      }
    },
    {
      "cell_type": "code",
      "source": [
        "xyz = np.array([[39.600,42.911,0.001],\n",
        "[39.606,42.918,33.542],\n",
        "[30.064,58.441,16.995],\n",
        "[39.402,76.961,0.006],\n",
        "[39.403,76.969,50.002],\n",
        "[60.266,77.161,16.996],\n",
        "[60.269,77.169,50.004],\n",
        "[69.724,63.322,0.007],\n",
        "[69.727,63.320,33.542],\n",
        "[39.606,42.911,16.994],\n",
        "[39.600,42.918,50.003],\n",
        "[30.065,58.441,0.002],\n",
        "[30.062,58.448,33.542],\n",
        "[30.060,58.442,50.004],\n",
        "[39.403,76.967,16.994],\n",
        "[39.409,76.961,33.542],\n",
        "[60.261,77.169,0.003],\n",
        "[60.267,77.163,33.541],\n",
        "[69.720,63.323,16.995],\n",
        "[69.724,63.328,50.002]])\n",
        "\n",
        "print(xyz)"
      ],
      "metadata": {
        "colab": {
          "base_uri": "https://localhost:8080/"
        },
        "id": "QXhQSj9rDewM",
        "outputId": "bfc6c835-8336-435b-8f1a-7cbd07cea81a"
      },
      "execution_count": null,
      "outputs": [
        {
          "output_type": "stream",
          "name": "stdout",
          "text": [
            "[[3.9600e+01 4.2911e+01 1.0000e-03]\n",
            " [3.9606e+01 4.2918e+01 3.3542e+01]\n",
            " [3.0064e+01 5.8441e+01 1.6995e+01]\n",
            " [3.9402e+01 7.6961e+01 6.0000e-03]\n",
            " [3.9403e+01 7.6969e+01 5.0002e+01]\n",
            " [6.0266e+01 7.7161e+01 1.6996e+01]\n",
            " [6.0269e+01 7.7169e+01 5.0004e+01]\n",
            " [6.9724e+01 6.3322e+01 7.0000e-03]\n",
            " [6.9727e+01 6.3320e+01 3.3542e+01]\n",
            " [3.9606e+01 4.2911e+01 1.6994e+01]\n",
            " [3.9600e+01 4.2918e+01 5.0003e+01]\n",
            " [3.0065e+01 5.8441e+01 2.0000e-03]\n",
            " [3.0062e+01 5.8448e+01 3.3542e+01]\n",
            " [3.0060e+01 5.8442e+01 5.0004e+01]\n",
            " [3.9403e+01 7.6967e+01 1.6994e+01]\n",
            " [3.9409e+01 7.6961e+01 3.3542e+01]\n",
            " [6.0261e+01 7.7169e+01 3.0000e-03]\n",
            " [6.0267e+01 7.7163e+01 3.3541e+01]\n",
            " [6.9720e+01 6.3323e+01 1.6995e+01]\n",
            " [6.9724e+01 6.3328e+01 5.0002e+01]]\n"
          ]
        }
      ]
    },
    {
      "cell_type": "code",
      "source": [
        "# extract the x, y, and z coordinates\n",
        "x = xyz[:, 0]\n",
        "y = xyz[:, 1]\n",
        "z = xyz[:, 2]\n",
        "\n",
        "# compute the parameters\n",
        "x2 = x ** 2\n",
        "y2 = y ** 2\n",
        "z2 = z ** 2\n",
        "xy = 2 * x * y\n",
        "xz = 2 * x * z\n",
        "yz = 2 * y * z\n",
        "x2_ = 2 * x\n",
        "y2_ = 2 * y\n",
        "z2_ = 2 * z\n",
        "\n",
        "# create the matrix with the parameters\n",
        "A = np.vstack([x2, y2, z2, xy, xz, yz, x2_, y2_, z2_]).T"
      ],
      "metadata": {
        "id": "KZ0Uc4uXDjCM"
      },
      "execution_count": null,
      "outputs": []
    },
    {
      "cell_type": "code",
      "source": [
        "print(A)"
      ],
      "metadata": {
        "colab": {
          "base_uri": "https://localhost:8080/"
        },
        "id": "Gki4kJPJJYx1",
        "outputId": "4c2e3be7-f628-4b6d-d884-49a2525cf628"
      },
      "execution_count": null,
      "outputs": [
        {
          "output_type": "stream",
          "name": "stdout",
          "text": [
            "[[1.56816000e+03 1.84135392e+03 1.00000000e-06 3.39855120e+03\n",
            "  7.92000000e-02 8.58220000e-02 7.92000000e+01 8.58220000e+01\n",
            "  2.00000000e-03]\n",
            " [1.56863524e+03 1.84195472e+03 1.12506576e+03 3.39962062e+03\n",
            "  2.65692890e+03 2.87911111e+03 7.92120000e+01 8.58360000e+01\n",
            "  6.70840000e+01]\n",
            " [9.03844096e+02 3.41535048e+03 2.88830025e+02 3.51394045e+03\n",
            "  1.02187536e+03 1.98640959e+03 6.01280000e+01 1.16882000e+02\n",
            "  3.39900000e+01]\n",
            " [1.55251760e+03 5.92299552e+03 3.60000000e-05 6.06483464e+03\n",
            "  4.72824000e-01 9.23532000e-01 7.88040000e+01 1.53922000e+02\n",
            "  1.20000000e-02]\n",
            " [1.55259641e+03 5.92422696e+03 2.50020000e+03 6.06561901e+03\n",
            "  3.94045761e+03 7.69720788e+03 7.88060000e+01 1.53938000e+02\n",
            "  1.00004000e+02]\n",
            " [3.63199076e+03 5.95381992e+03 2.88864016e+02 9.30036965e+03\n",
            "  2.04856187e+03 2.62285671e+03 1.20532000e+02 1.54322000e+02\n",
            "  3.39920000e+01]\n",
            " [3.63235236e+03 5.95505456e+03 2.50040002e+03 9.30179692e+03\n",
            "  6.02738215e+03 7.71751735e+03 1.20538000e+02 1.54338000e+02\n",
            "  1.00008000e+02]\n",
            " [4.86143618e+03 4.00967568e+03 4.90000000e-05 8.83012626e+03\n",
            "  9.76136000e-01 8.86508000e-01 1.39448000e+02 1.26644000e+02\n",
            "  1.40000000e-02]\n",
            " [4.86185453e+03 4.00942240e+03 1.12506576e+03 8.83022728e+03\n",
            "  4.67756607e+03 4.24775888e+03 1.39454000e+02 1.26640000e+02\n",
            "  6.70840000e+01]\n",
            " [1.56863524e+03 1.84135392e+03 2.88796036e+02 3.39906613e+03\n",
            "  1.34612873e+03 1.45845907e+03 7.92120000e+01 8.58220000e+01\n",
            "  3.39880000e+01]\n",
            " [1.56816000e+03 1.84195472e+03 2.50030001e+03 3.39910560e+03\n",
            "  3.96023760e+03 4.29205751e+03 7.92000000e+01 8.58360000e+01\n",
            "  1.00006000e+02]\n",
            " [9.03904225e+02 3.41535048e+03 4.00000000e-06 3.51405733e+03\n",
            "  1.20260000e-01 2.33764000e-01 6.01300000e+01 1.16882000e+02\n",
            "  4.00000000e-03]\n",
            " [9.03723844e+02 3.41616870e+03 1.12506576e+03 3.51412755e+03\n",
            "  2.01667921e+03 3.92092563e+03 6.01240000e+01 1.16896000e+02\n",
            "  6.70840000e+01]\n",
            " [9.03603600e+02 3.41546736e+03 2.50040002e+03 3.51353304e+03\n",
            "  3.00624048e+03 5.84466754e+03 6.01200000e+01 1.16884000e+02\n",
            "  1.00008000e+02]\n",
            " [1.55259641e+03 5.92391909e+03 2.88796036e+02 6.06546140e+03\n",
            "  1.33922916e+03 2.61595440e+03 7.88060000e+01 1.53934000e+02\n",
            "  3.39880000e+01]\n",
            " [1.55306928e+03 5.92299552e+03 1.12506576e+03 6.06591210e+03\n",
            "  2.64371336e+03 5.16285172e+03 7.88180000e+01 1.53922000e+02\n",
            "  6.70840000e+01]\n",
            " [3.63138812e+03 5.95505456e+03 9.00000000e-06 9.30056222e+03\n",
            "  3.61566000e-01 4.63014000e-01 1.20522000e+02 1.54338000e+02\n",
            "  6.00000000e-03]\n",
            " [3.63211129e+03 5.95412857e+03 1.12499868e+03 9.30076504e+03\n",
            "  4.04283089e+03 5.17624837e+03 1.20534000e+02 1.54326000e+02\n",
            "  6.70820000e+01]\n",
            " [4.86087840e+03 4.00980233e+03 2.88830025e+02 8.82975912e+03\n",
            "  2.36978280e+03 2.15234877e+03 1.39440000e+02 1.26646000e+02\n",
            "  3.39900000e+01]\n",
            " [4.86143618e+03 4.01043558e+03 2.50020000e+03 8.83096294e+03\n",
            "  6.97267890e+03 6.33305331e+03 1.39448000e+02 1.26656000e+02\n",
            "  1.00004000e+02]]\n"
          ]
        }
      ]
    },
    {
      "cell_type": "code",
      "source": [
        "A.shape\n"
      ],
      "metadata": {
        "colab": {
          "base_uri": "https://localhost:8080/"
        },
        "id": "4pryn-nQEdhM",
        "outputId": "3051239a-1c16-4df4-8398-7699562d7626"
      },
      "execution_count": null,
      "outputs": [
        {
          "output_type": "execute_result",
          "data": {
            "text/plain": [
              "(20, 9)"
            ]
          },
          "metadata": {},
          "execution_count": 7
        }
      ]
    },
    {
      "cell_type": "code",
      "source": [
        "# create a 9-row matrix with -1 values\n",
        "B = np.ones((20, 1)) * -1\n",
        "\n",
        "# print the matrix\n",
        "print(B)"
      ],
      "metadata": {
        "colab": {
          "base_uri": "https://localhost:8080/"
        },
        "id": "GsWuYRp9E8j1",
        "outputId": "2572b51f-b768-4a22-ee50-7078eb815306"
      },
      "execution_count": null,
      "outputs": [
        {
          "output_type": "stream",
          "name": "stdout",
          "text": [
            "[[-1.]\n",
            " [-1.]\n",
            " [-1.]\n",
            " [-1.]\n",
            " [-1.]\n",
            " [-1.]\n",
            " [-1.]\n",
            " [-1.]\n",
            " [-1.]\n",
            " [-1.]\n",
            " [-1.]\n",
            " [-1.]\n",
            " [-1.]\n",
            " [-1.]\n",
            " [-1.]\n",
            " [-1.]\n",
            " [-1.]\n",
            " [-1.]\n",
            " [-1.]\n",
            " [-1.]]\n"
          ]
        }
      ]
    },
    {
      "cell_type": "code",
      "source": [
        "X = (np.matrix(A.T.dot(A)).I).dot(A.T).dot(B)\n",
        "print(X)"
      ],
      "metadata": {
        "id": "vI0N0cTTFAj1",
        "colab": {
          "base_uri": "https://localhost:8080/"
        },
        "outputId": "d126f5d3-db53-44ed-aa7f-723e86e2f7c9"
      },
      "execution_count": null,
      "outputs": [
        {
          "output_type": "stream",
          "name": "stdout",
          "text": [
            "[[ 1.75444448e-04]\n",
            " [ 1.75400627e-04]\n",
            " [-3.24200403e-08]\n",
            " [ 2.83658478e-08]\n",
            " [ 1.68191925e-09]\n",
            " [-1.97440177e-08]\n",
            " [-8.77434264e-03]\n",
            " [-1.05248017e-02]\n",
            " [ 1.87726499e-06]]\n"
          ]
        }
      ]
    },
    {
      "cell_type": "markdown",
      "source": [
        "1.75444 * 10^-4\n",
        "last 1.87726 * 10^-6"
      ],
      "metadata": {
        "id": "pCa0q7_rJ80N"
      }
    },
    {
      "cell_type": "markdown",
      "source": [
        "## 2. The coordinates of the center of symmetry"
      ],
      "metadata": {
        "id": "o4b559rwMCos"
      }
    },
    {
      "cell_type": "code",
      "source": [
        "MW = np.array([[X[0], X[3], X[4]],\n",
        "              [X[3], X[1], X[5]],\n",
        "              [X[4], X[5], X[2]]])\n",
        "print(MW)"
      ],
      "metadata": {
        "id": "UZT5wqNhG9pG",
        "colab": {
          "base_uri": "https://localhost:8080/"
        },
        "outputId": "8488bf3e-402a-4608-b2b4-f9551daff5e7"
      },
      "execution_count": null,
      "outputs": [
        {
          "output_type": "stream",
          "name": "stdout",
          "text": [
            "[[[[ 1.75444448e-04]]\n",
            "\n",
            "  [[ 2.83658478e-08]]\n",
            "\n",
            "  [[ 1.68191925e-09]]]\n",
            "\n",
            "\n",
            " [[[ 2.83658478e-08]]\n",
            "\n",
            "  [[ 1.75400627e-04]]\n",
            "\n",
            "  [[-1.97440177e-08]]]\n",
            "\n",
            "\n",
            " [[[ 1.68191925e-09]]\n",
            "\n",
            "  [[-1.97440177e-08]]\n",
            "\n",
            "  [[-3.24200403e-08]]]]\n"
          ]
        }
      ]
    },
    {
      "cell_type": "code",
      "source": [
        "MW = MW.reshape(3,3) #different reshape\n",
        "MW = np.matrix(MW)\n",
        "print(MW)"
      ],
      "metadata": {
        "colab": {
          "base_uri": "https://localhost:8080/"
        },
        "id": "jN_eyEs1NWt1",
        "outputId": "d800804d-8380-4700-e25f-4f7686c07e47"
      },
      "execution_count": null,
      "outputs": [
        {
          "output_type": "stream",
          "name": "stdout",
          "text": [
            "[[ 1.75444448e-04  2.83658478e-08  1.68191925e-09]\n",
            " [ 2.83658478e-08  1.75400627e-04 -1.97440177e-08]\n",
            " [ 1.68191925e-09 -1.97440177e-08 -3.24200403e-08]]\n"
          ]
        }
      ]
    },
    {
      "cell_type": "code",
      "source": [
        "W = X[6:9, 0]*-1 "
      ],
      "metadata": {
        "id": "t_PbP0GNNXd8"
      },
      "execution_count": null,
      "outputs": []
    },
    {
      "cell_type": "code",
      "source": [
        "print(W)"
      ],
      "metadata": {
        "colab": {
          "base_uri": "https://localhost:8080/"
        },
        "id": "7eC3NgSu45YS",
        "outputId": "860b698e-8979-4903-9e50-ff08f17c2ff3"
      },
      "execution_count": null,
      "outputs": [
        {
          "output_type": "stream",
          "name": "stdout",
          "text": [
            "[[ 8.77434264e-03]\n",
            " [ 1.05248017e-02]\n",
            " [-1.87726499e-06]]\n"
          ]
        }
      ]
    },
    {
      "cell_type": "code",
      "source": [
        "MW_1 = MW.I\n",
        "print(MW_1)\n",
        "MW_1.shape"
      ],
      "metadata": {
        "colab": {
          "base_uri": "https://localhost:8080/"
        },
        "id": "Bb98LuLV7DF6",
        "outputId": "61d23c04-16b8-4460-ff88-174c21806ecc"
      },
      "execution_count": null,
      "outputs": [
        {
          "output_type": "stream",
          "name": "stdout",
          "text": [
            "[[ 5.69980720e+03 -8.88428232e-01  2.96241352e+02]\n",
            " [-8.88428232e-01  5.70084323e+03 -3.47189710e+03]\n",
            " [ 2.96241352e+02 -3.47189710e+03 -3.08429892e+07]]\n"
          ]
        },
        {
          "output_type": "execute_result",
          "data": {
            "text/plain": [
              "(3, 3)"
            ]
          },
          "metadata": {},
          "execution_count": 14
        }
      ]
    },
    {
      "cell_type": "code",
      "source": [
        "S = MW_1.dot(W)\n",
        "print(S)"
      ],
      "metadata": {
        "colab": {
          "base_uri": "https://localhost:8080/"
        },
        "id": "WBZ-Wo615JTn",
        "outputId": "d04bc75a-da95-4004-9411-e29b2ca23203"
      },
      "execution_count": null,
      "outputs": [
        {
          "output_type": "stream",
          "name": "stdout",
          "text": [
            "[[50.00215468]\n",
            " [59.99896684]\n",
            " [23.95875848]]\n"
          ]
        }
      ]
    },
    {
      "cell_type": "markdown",
      "source": [
        "## 3)\tThe dimensions of the object, i.e. the lengths of the semi-major axes of the quadric"
      ],
      "metadata": {
        "id": "pKLYN9P1YV3v"
      }
    },
    {
      "cell_type": "code",
      "source": [
        "I1 = X[0]+X[1]+X[2]\n",
        "\n",
        "I2 = np.linalg.det(np.array([[X[0], X[3]], [X[3], X[1]]]).reshape(2,2))+np.linalg.det((np.array([[X[1], X[5]],[X[5], X[2]]])).reshape(2,2))+np.linalg.det((np.array([[X[0], X[4]],[X[4], X[2]]])).reshape(2,2))\n",
        "\n",
        "I3 = np.linalg.det(np.array([[X[0], X[3], X[4]],\n",
        "               [X[3], X[1], X[5]],\n",
        "               [X[4], X[5], X[2]]]).reshape(3,3))"
      ],
      "metadata": {
        "id": "Z7dYxlSv8N1N"
      },
      "execution_count": null,
      "outputs": []
    },
    {
      "cell_type": "code",
      "source": [
        "print(f'I1\\n{I1}')\n",
        "print(f'I2\\n{I2}')\n",
        "print(f'I3\\n{I3}')"
      ],
      "metadata": {
        "colab": {
          "base_uri": "https://localhost:8080/"
        },
        "id": "GPTMro_IQBBn",
        "outputId": "a257a3bf-ff91-433a-c251-689e406583ef"
      },
      "execution_count": null,
      "outputs": [
        {
          "output_type": "stream",
          "name": "stdout",
          "text": [
            "I1\n",
            "[[0.00035081]]\n",
            "I2\n",
            "3.076169055643298e-08\n",
            "I3\n",
            "-9.977329106438352e-16\n"
          ]
        }
      ]
    },
    {
      "cell_type": "code",
      "source": [
        "p = np.subtract(I2, pow(I1,2)/3)\n",
        "print(p)"
      ],
      "metadata": {
        "colab": {
          "base_uri": "https://localhost:8080/"
        },
        "id": "FumAebDYzD2c",
        "outputId": "791ba9fd-c92e-428d-c751-8ef0d7bffc08"
      },
      "execution_count": null,
      "outputs": [
        {
          "output_type": "stream",
          "name": "stdout",
          "text": [
            "[[-1.02614824e-08]]\n"
          ]
        }
      ]
    },
    {
      "cell_type": "code",
      "source": [
        "q = ((I1 * I2)/3) - ((2/27)*I1**3) - I3\n",
        "print(q)"
      ],
      "metadata": {
        "colab": {
          "base_uri": "https://localhost:8080/"
        },
        "id": "Fgg0vYDD1O9U",
        "outputId": "5f309e11-8cc7-4594-f0f4-f5b14612058a"
      },
      "execution_count": null,
      "outputs": [
        {
          "output_type": "stream",
          "name": "stdout",
          "text": [
            "[[4.00094908e-13]]\n"
          ]
        }
      ]
    },
    {
      "cell_type": "code",
      "source": [
        "s = math.sqrt(-(p/3))\n",
        "print(s)"
      ],
      "metadata": {
        "colab": {
          "base_uri": "https://localhost:8080/"
        },
        "id": "YIH-vCCm1Pgz",
        "outputId": "c321c221-3e76-4943-cc1c-ad359191ac89"
      },
      "execution_count": null,
      "outputs": [
        {
          "output_type": "stream",
          "name": "stdout",
          "text": [
            "5.8484990609966626e-05\n"
          ]
        }
      ]
    },
    {
      "cell_type": "code",
      "source": [
        "cosB = -(q/(2*s**3))\n",
        "print(cosB)"
      ],
      "metadata": {
        "colab": {
          "base_uri": "https://localhost:8080/"
        },
        "id": "cSdgPszU1PYe",
        "outputId": "a0cafa90-5817-445e-938f-0577c4991a56"
      },
      "execution_count": null,
      "outputs": [
        {
          "output_type": "stream",
          "name": "stdout",
          "text": [
            "[[-0.99999944]]\n"
          ]
        }
      ]
    },
    {
      "cell_type": "code",
      "source": [
        "beta = math.acos(cosB)\n",
        "#beta = beta * 180/math.pi\n",
        "print(beta)"
      ],
      "metadata": {
        "colab": {
          "base_uri": "https://localhost:8080/"
        },
        "id": "E-mMMsE_3iz3",
        "outputId": "7b91a967-37e3-48d4-a5df-b596df7fb997"
      },
      "execution_count": null,
      "outputs": [
        {
          "output_type": "stream",
          "name": "stdout",
          "text": [
            "3.1405311881711415\n"
          ]
        }
      ]
    },
    {
      "cell_type": "code",
      "source": [
        "lambda1 = (2*s*np.cos(beta/3))+I1/3\n",
        "print(lambda1)"
      ],
      "metadata": {
        "colab": {
          "base_uri": "https://localhost:8080/"
        },
        "id": "t1Gcd29NyEDJ",
        "outputId": "5bd062c3-0560-4483-e799-ca0d8ee7f144"
      },
      "execution_count": null,
      "outputs": [
        {
          "output_type": "stream",
          "name": "stdout",
          "text": [
            "[[0.00017546]]\n"
          ]
        }
      ]
    },
    {
      "cell_type": "code",
      "source": [
        "lambda2 = ((2*s*np.cos((beta/3 + math.radians(120)))))+I1/3\n",
        "print(lambda2)"
      ],
      "metadata": {
        "colab": {
          "base_uri": "https://localhost:8080/"
        },
        "id": "cyQ37h3T1t2_",
        "outputId": "7ac373b1-215a-4101-c30b-58b1fbb02d08"
      },
      "execution_count": null,
      "outputs": [
        {
          "output_type": "stream",
          "name": "stdout",
          "text": [
            "[[-3.24222786e-08]]\n"
          ]
        }
      ]
    },
    {
      "cell_type": "code",
      "source": [
        "lambda3 = (2*s*np.cos(beta/3 + math.radians(240)))+I1/3\n",
        "print(lambda3)"
      ],
      "metadata": {
        "colab": {
          "base_uri": "https://localhost:8080/"
        },
        "id": "G9lGfjhM1tlz",
        "outputId": "19e36be6-0765-4a79-d612-6421b3e83fec"
      },
      "execution_count": null,
      "outputs": [
        {
          "output_type": "stream",
          "name": "stdout",
          "text": [
            "[[0.00017539]]\n"
          ]
        }
      ]
    },
    {
      "cell_type": "code",
      "source": [
        "d_arr = np.array([[X[0], X[3], X[4], X[6]],\n",
        "                   [X[3], X[1], X[5], X[7]],\n",
        "                   [X[4], X[5], X[2], X[8]],\n",
        "                   [X[6], X[7], X[8], X[0]]]).reshape(4,4)\n",
        "print(d_arr)"
      ],
      "metadata": {
        "colab": {
          "base_uri": "https://localhost:8080/"
        },
        "id": "-uErRZfi5yI_",
        "outputId": "0b7e3e41-b5a9-4b5a-94c7-47735ad692d3"
      },
      "execution_count": null,
      "outputs": [
        {
          "output_type": "stream",
          "name": "stdout",
          "text": [
            "[[ 1.75444448e-04  2.83658478e-08  1.68191925e-09 -8.77434264e-03]\n",
            " [ 2.83658478e-08  1.75400627e-04 -1.97440177e-08 -1.05248017e-02]\n",
            " [ 1.68191925e-09 -1.97440177e-08 -3.24200403e-08  1.87726499e-06]\n",
            " [-8.77434264e-03 -1.05248017e-02  1.87726499e-06  1.75444448e-04]]\n"
          ]
        }
      ]
    },
    {
      "cell_type": "code",
      "source": [
        "BB= np.ones((16, 1)).reshape(4,4)\n",
        "BB[3,3] = 0\n",
        "\n",
        "print(BB)"
      ],
      "metadata": {
        "colab": {
          "base_uri": "https://localhost:8080/"
        },
        "id": "s0mqiXhD9pJZ",
        "outputId": "d4d91598-1a15-4837-dddb-9618161d2936"
      },
      "execution_count": null,
      "outputs": [
        {
          "output_type": "stream",
          "name": "stdout",
          "text": [
            "[[1. 1. 1. 1.]\n",
            " [1. 1. 1. 1.]\n",
            " [1. 1. 1. 1.]\n",
            " [1. 1. 1. 0.]]\n"
          ]
        }
      ]
    },
    {
      "cell_type": "code",
      "source": [
        "z_arr = np.zeros((16, 1)).reshape(4,4)\n",
        "z_arr[3,3] = 1\n",
        "print(z_arr)"
      ],
      "metadata": {
        "colab": {
          "base_uri": "https://localhost:8080/"
        },
        "id": "jHE9mVPWAOK4",
        "outputId": "294856d8-2fd4-44e3-cbf6-1fabfffa4652"
      },
      "execution_count": null,
      "outputs": [
        {
          "output_type": "stream",
          "name": "stdout",
          "text": [
            "[[0. 0. 0. 0.]\n",
            " [0. 0. 0. 0.]\n",
            " [0. 0. 0. 0.]\n",
            " [0. 0. 0. 1.]]\n"
          ]
        }
      ]
    },
    {
      "cell_type": "code",
      "source": [
        "p_arr = (d_arr*BB).reshape(4,4)\n",
        "print(p_arr)"
      ],
      "metadata": {
        "colab": {
          "base_uri": "https://localhost:8080/"
        },
        "id": "6t5fdB73_o6Q",
        "outputId": "605e0203-841c-4e91-8841-a26da96a5c4d"
      },
      "execution_count": null,
      "outputs": [
        {
          "output_type": "stream",
          "name": "stdout",
          "text": [
            "[[ 1.75444448e-04  2.83658478e-08  1.68191925e-09 -8.77434264e-03]\n",
            " [ 2.83658478e-08  1.75400627e-04 -1.97440177e-08 -1.05248017e-02]\n",
            " [ 1.68191925e-09 -1.97440177e-08 -3.24200403e-08  1.87726499e-06]\n",
            " [-8.77434264e-03 -1.05248017e-02  1.87726499e-06  0.00000000e+00]]\n"
          ]
        }
      ]
    },
    {
      "cell_type": "code",
      "source": [
        "I4 = np.linalg.det((z_arr + p_arr).reshape(4,4))\n",
        "print(I4)"
      ],
      "metadata": {
        "colab": {
          "base_uri": "https://localhost:8080/"
        },
        "id": "hChkGRjLAYVS",
        "outputId": "365b9164-7f8e-4da9-8670-aff333d70ec7"
      },
      "execution_count": null,
      "outputs": [
        {
          "output_type": "stream",
          "name": "stdout",
          "text": [
            "7.000921224078394e-17\n"
          ]
        }
      ]
    },
    {
      "cell_type": "code",
      "source": [
        "a2 = -I4/(lambda1*I3)\n",
        "print(a2)"
      ],
      "metadata": {
        "colab": {
          "base_uri": "https://localhost:8080/"
        },
        "id": "yO1zEZ8lAvse",
        "outputId": "8925995e-cc99-4f4e-e387-cf86581eacd9"
      },
      "execution_count": null,
      "outputs": [
        {
          "output_type": "stream",
          "name": "stdout",
          "text": [
            "[[399.91415561]]\n"
          ]
        }
      ]
    },
    {
      "cell_type": "code",
      "source": [
        "b2 = -I4/(lambda2*I3)\n",
        "print(b2)"
      ],
      "metadata": {
        "colab": {
          "base_uri": "https://localhost:8080/"
        },
        "id": "xBcuJNutAxcN",
        "outputId": "a75a08ae-49cd-437c-f029-b8d865d9d5cf"
      },
      "execution_count": null,
      "outputs": [
        {
          "output_type": "stream",
          "name": "stdout",
          "text": [
            "[[-2164199.83712541]]\n"
          ]
        }
      ]
    },
    {
      "cell_type": "code",
      "source": [
        "c2 = -I4/(lambda3*I3)\n",
        "print(c2)"
      ],
      "metadata": {
        "colab": {
          "base_uri": "https://localhost:8080/"
        },
        "id": "EV08AcSeAxY-",
        "outputId": "22f0dc21-abe3-4a24-a167-3dac8cba409d"
      },
      "execution_count": null,
      "outputs": [
        {
          "output_type": "stream",
          "name": "stdout",
          "text": [
            "[[400.07760743]]\n"
          ]
        }
      ]
    },
    {
      "cell_type": "code",
      "source": [
        "a=np.sqrt(a2)\n",
        "print(a)"
      ],
      "metadata": {
        "colab": {
          "base_uri": "https://localhost:8080/"
        },
        "id": "BYKI-Vf2AxVi",
        "outputId": "f83242d8-eeea-49aa-ef5e-bbd8e2dbaf3e"
      },
      "execution_count": null,
      "outputs": [
        {
          "output_type": "stream",
          "name": "stdout",
          "text": [
            "[[19.99785378]]\n"
          ]
        }
      ]
    },
    {
      "cell_type": "code",
      "source": [
        "b=cmath.sqrt(b2)\n",
        "print(b)"
      ],
      "metadata": {
        "colab": {
          "base_uri": "https://localhost:8080/"
        },
        "id": "LGPDNHrQAxSF",
        "outputId": "60778b57-9e23-4eac-c343-f2fca80897b1"
      },
      "execution_count": null,
      "outputs": [
        {
          "output_type": "stream",
          "name": "stdout",
          "text": [
            "1471.1219654146323j\n"
          ]
        }
      ]
    },
    {
      "cell_type": "code",
      "source": [
        "c=np.sqrt(c2)\n",
        "print(c)"
      ],
      "metadata": {
        "colab": {
          "base_uri": "https://localhost:8080/"
        },
        "id": "3sA83R5hAxJL",
        "outputId": "aae1257c-59ef-47f5-9d4b-417c86bc9906"
      },
      "execution_count": null,
      "outputs": [
        {
          "output_type": "stream",
          "name": "stdout",
          "text": [
            "[[20.00194009]]\n"
          ]
        }
      ]
    },
    {
      "cell_type": "markdown",
      "source": [
        "4) Inclination of the semi-axes a, b, c relative to the axes of the coordinate system in order x, y, z [degrees]:"
      ],
      "metadata": {
        "id": "RbLBWiOyYaoH"
      }
    },
    {
      "cell_type": "markdown",
      "source": [
        "axis A"
      ],
      "metadata": {
        "id": "JI42U-ojLSgQ"
      }
    },
    {
      "cell_type": "code",
      "source": [
        "kA = np.array([[MW[0,1], MW[0,2]],\n",
        "              [MW[1,1], MW[1,2]]])\n",
        "lambda_temp = np.zeros((4, 1)).reshape(2,2)\n",
        "lambda_temp[1,0] = lambda1\n",
        "kA = np.linalg.det(kA - lambda_temp)\n",
        "print(kA)"
      ],
      "metadata": {
        "id": "THnpqYtLYaBd",
        "colab": {
          "base_uri": "https://localhost:8080/"
        },
        "outputId": "719b91b1-d519-4bd4-d2f4-340bdf48663c"
      },
      "execution_count": null,
      "outputs": [
        {
          "output_type": "stream",
          "name": "stdout",
          "text": [
            "-4.629191866863179e-16\n"
          ]
        }
      ]
    },
    {
      "cell_type": "code",
      "source": [
        "lA = np.array([[MW[0,2], MW[0,0]],\n",
        "              [MW[1,2], MW[1,0]]])\n",
        "lambda_temp = np.zeros((4, 1)).reshape(2,2)\n",
        "lambda_temp[0,1] = lambda1\n",
        "lA = np.linalg.det(lA - lambda_temp)\n",
        "\n",
        "print(lA)"
      ],
      "metadata": {
        "colab": {
          "base_uri": "https://localhost:8080/"
        },
        "id": "4SkCgmTrLVZI",
        "outputId": "01d655c3-8f50-484f-b8c4-a27a374ffedb"
      },
      "execution_count": null,
      "outputs": [
        {
          "output_type": "stream",
          "name": "stdout",
          "text": [
            "-2.2737197817220507e-16\n"
          ]
        }
      ]
    },
    {
      "cell_type": "code",
      "source": [
        "mA = np.array([[MW[0,0], MW[0,1]],\n",
        "              [MW[1,0], MW[1,1]]])\n",
        "lambda_temp = np.zeros((4, 1)).reshape(2,2)\n",
        "lambda_temp[1,1] = lambda1\n",
        "lambda_temp[0,0] = lambda1\n",
        "mA = np.linalg.det(mA - lambda_temp)\n",
        "print(mA)"
      ],
      "metadata": {
        "colab": {
          "base_uri": "https://localhost:8080/"
        },
        "id": "rnWR2FcALVPr",
        "outputId": "d1d7c4a8-bc13-48a5-ee0c-1c9b1e13ff4c"
      },
      "execution_count": null,
      "outputs": [
        {
          "output_type": "stream",
          "name": "stdout",
          "text": [
            "2.1152876262628332e-20\n"
          ]
        }
      ]
    },
    {
      "cell_type": "code",
      "source": [
        "cosAA = kA/(np.sqrt(kA**2+lA**2+mA**2))\n",
        "angAA = math.acos(cosAA)\n",
        "angAA = angAA * 180/math.pi\n",
        "print(angAA)"
      ],
      "metadata": {
        "colab": {
          "base_uri": "https://localhost:8080/"
        },
        "id": "4-rMR6TTLVI3",
        "outputId": "bafd6126-e653-4f86-c937-dcfd4d23ed03"
      },
      "execution_count": null,
      "outputs": [
        {
          "output_type": "stream",
          "name": "stdout",
          "text": [
            "153.8411177711553\n"
          ]
        }
      ]
    },
    {
      "cell_type": "code",
      "source": [
        "cosBA = lA/(np.sqrt(kA**2+lA**2+mA**2))\n",
        "angBA = math.acos(cosBA)\n",
        "angBA = angBA * 180/math.pi\n",
        "print(angBA)"
      ],
      "metadata": {
        "colab": {
          "base_uri": "https://localhost:8080/"
        },
        "id": "YFHro4LIPOYa",
        "outputId": "98adfbf1-00c9-46d0-81a3-89051c540638"
      },
      "execution_count": null,
      "outputs": [
        {
          "output_type": "stream",
          "name": "stdout",
          "text": [
            "116.15888210706096\n"
          ]
        }
      ]
    },
    {
      "cell_type": "code",
      "source": [
        "cosGA = mA/(np.sqrt(kA**2+lA**2+mA**2))\n",
        "angGA = math.acos(cosGA)\n",
        "angGA = angGA * 180/math.pi\n",
        "print(angGA)"
      ],
      "metadata": {
        "colab": {
          "base_uri": "https://localhost:8080/"
        },
        "id": "mU-ZA6nJPOLX",
        "outputId": "432058e0-a5a2-471e-bc0d-ade05d12ac03"
      },
      "execution_count": null,
      "outputs": [
        {
          "output_type": "stream",
          "name": "stdout",
          "text": [
            "89.99765005542852\n"
          ]
        }
      ]
    },
    {
      "cell_type": "markdown",
      "source": [
        "axis B"
      ],
      "metadata": {
        "id": "8rgaLXqBQsZt"
      }
    },
    {
      "cell_type": "code",
      "source": [
        "kA = np.array([[MW[0,1], MW[0,2]],\n",
        "              [MW[1,1], MW[1,2]]])\n",
        "lambda_temp = np.zeros((4, 1)).reshape(2,2)\n",
        "lambda_temp[1,0] = lambda2\n",
        "kA = np.linalg.det(kA - lambda_temp)\n",
        "\n",
        "lA = np.array([[MW[0,2], MW[0,0]],\n",
        "              [MW[1,2], MW[1,0]]])\n",
        "lambda_temp = np.zeros((4, 1)).reshape(2,2)\n",
        "lambda_temp[0,1] = lambda2\n",
        "lA = np.linalg.det(lA - lambda_temp)\n",
        "\n",
        "mA = np.array([[MW[0,0], MW[0,1]],\n",
        "              [MW[1,0], MW[1,1]]])\n",
        "lambda_temp = np.zeros((4, 1)).reshape(2,2)\n",
        "lambda_temp[1,1] = lambda2\n",
        "lambda_temp[0,0] = lambda2\n",
        "mA = np.linalg.det(mA - lambda_temp)\n",
        "\n",
        "cosAA = kA/(np.sqrt(kA**2+lA**2+mA**2))\n",
        "angAA = math.acos(cosAA)\n",
        "angAA = angAA * 180/math.pi\n",
        "print(angAA)\n",
        "\n",
        "cosBA = lA/(np.sqrt(kA**2+lA**2+mA**2))\n",
        "angBA = math.acos(cosBA)\n",
        "angBA = angBA * 180/math.pi\n",
        "print(angBA)\n",
        "\n",
        "cosGA = mA/(np.sqrt(kA**2+lA**2+mA**2))\n",
        "angGA = math.acos(cosGA)\n",
        "angGA = angGA * 180/math.pi\n",
        "print(angGA)"
      ],
      "metadata": {
        "colab": {
          "base_uri": "https://localhost:8080/"
        },
        "id": "Gnf4ohJ0PmZX",
        "outputId": "ef2d1663-944a-4697-c106-a2e4c0aa3e9e"
      },
      "execution_count": null,
      "outputs": [
        {
          "output_type": "stream",
          "name": "stdout",
          "text": [
            "90.00055021375881\n",
            "89.99355158852275\n",
            "0.006471842573395741\n"
          ]
        }
      ]
    },
    {
      "cell_type": "markdown",
      "source": [
        "axis C"
      ],
      "metadata": {
        "id": "70kZUH6uRY3n"
      }
    },
    {
      "cell_type": "code",
      "source": [
        "kA = np.array([[MW[0,1], MW[0,2]],\n",
        "              [MW[1,1], MW[1,2]]])\n",
        "lambda_temp = np.zeros((4, 1)).reshape(2,2)\n",
        "lambda_temp[1,0] = lambda3\n",
        "kA = np.linalg.det(kA - lambda_temp)\n",
        "\n",
        "lA = np.array([[MW[0,2], MW[0,0]],\n",
        "              [MW[1,2], MW[1,0]]])\n",
        "lambda_temp = np.zeros((4, 1)).reshape(2,2)\n",
        "lambda_temp[0,1] = lambda3\n",
        "lA = np.linalg.det(lA - lambda_temp)\n",
        "\n",
        "mA = np.array([[MW[0,0], MW[0,1]],\n",
        "              [MW[1,0], MW[1,1]]])\n",
        "lambda_temp = np.zeros((4, 1)).reshape(2,2)\n",
        "lambda_temp[1,1] = lambda3\n",
        "lambda_temp[0,0] = lambda3\n",
        "mA = np.linalg.det(mA - lambda_temp)\n",
        "\n",
        "cosAA = kA/(np.sqrt(kA**2+lA**2+mA**2))\n",
        "angAA = math.acos(cosAA)\n",
        "angAA = angAA * 180/math.pi\n",
        "print(angAA)\n",
        "\n",
        "cosBA = lA/(np.sqrt(kA**2+lA**2+mA**2))\n",
        "angBA = math.acos(cosBA)\n",
        "angBA = angBA * 180/math.pi\n",
        "print(angBA)\n",
        "\n",
        "cosGA = mA/(np.sqrt(kA**2+lA**2+mA**2))\n",
        "angGA = math.acos(cosGA)\n",
        "angGA = angGA * 180/math.pi\n",
        "print(angGA)"
      ],
      "metadata": {
        "colab": {
          "base_uri": "https://localhost:8080/"
        },
        "id": "fG8ahgyPRJWr",
        "outputId": "9519f19b-1ff2-4ffa-93e8-7d1105c2ac59"
      },
      "execution_count": null,
      "outputs": [
        {
          "output_type": "stream",
          "name": "stdout",
          "text": [
            "116.15888194199175\n",
            "26.158882743905988\n",
            "90.00603013316633\n"
          ]
        }
      ]
    },
    {
      "cell_type": "markdown",
      "source": [
        "**Deviations from the coating (geometric distances)**"
      ],
      "metadata": {
        "id": "CjjW_tXvURmw"
      }
    },
    {
      "cell_type": "code",
      "source": [
        "A11 = p_arr[0][0]\n",
        "A12 = p_arr[0][1]\n",
        "A13 = p_arr[0][2]\n",
        "A14 = p_arr[0][3]\n",
        "A21 = p_arr[1][0]\n",
        "A22 = p_arr[1][1]\n",
        "A23 = p_arr[1][2]\n",
        "A24 = p_arr[1][3]\n",
        "A31 = p_arr[2][0]\n",
        "A32 = p_arr[2][1]\n",
        "A33 = p_arr[2][2]\n",
        "A34 = p_arr[2][3]\n",
        "A41 = p_arr[3][0]\n",
        "A42 = p_arr[3][1]\n",
        "A43 = p_arr[3][2]\n",
        "A44 = p_arr[3][3]"
      ],
      "metadata": {
        "id": "oYUjC2RKUWVg"
      },
      "execution_count": null,
      "outputs": []
    },
    {
      "cell_type": "code",
      "source": [
        "G = A11*x**2 + A22*y**2 + A33*z**2 + 2*A12*x*y + 2*A13*x*z + 2*A23*y*z + 2*A41*x + 2*A42*y + 2*A43*z + 1"
      ],
      "metadata": {
        "id": "4RFa0xw1-mCQ"
      },
      "execution_count": null,
      "outputs": []
    },
    {
      "cell_type": "code",
      "source": [
        "Nx = 2 * (A11*x + A12*y + A13*z + A14)\n",
        "Nx = np.array(Nx).reshape(20,1)\n",
        "print(Nx)"
      ],
      "metadata": {
        "colab": {
          "base_uri": "https://localhost:8080/"
        },
        "id": "yLKJTw4SDfuB",
        "outputId": "9eab70e9-b457-4171-ee8f-9aec6833cd1d"
      },
      "execution_count": null,
      "outputs": [
        {
          "output_type": "stream",
          "name": "stdout",
          "text": [
            "[[-0.00365105]\n",
            " [-0.00364883]\n",
            " [-0.00699619]\n",
            " [-0.00371859]\n",
            " [-0.00371808]\n",
            " [ 0.00360242]\n",
            " [ 0.00360358]\n",
            " [ 0.00692028]\n",
            " [ 0.00692145]\n",
            " [-0.00364889]\n",
            " [-0.00365088]\n",
            " [-0.0069959 ]\n",
            " [-0.00699683]\n",
            " [-0.00699748]\n",
            " [-0.00371819]\n",
            " [-0.00371603]\n",
            " [ 0.00360061]\n",
            " [ 0.00360283]\n",
            " [ 0.00691894]\n",
            " [ 0.00692045]]\n"
          ]
        }
      ]
    },
    {
      "cell_type": "code",
      "source": [
        "Ny = 2 * (A21*x + A22*y + A23*z + A24)\n",
        "Ny = np.array(Ny).reshape(20,1)\n",
        "print(Ny)"
      ],
      "metadata": {
        "colab": {
          "base_uri": "https://localhost:8080/"
        },
        "id": "Xp-Bt5maES73",
        "outputId": "d3de285c-bf71-431c-f6e8-7248dae14717"
      },
      "execution_count": null,
      "outputs": [
        {
          "output_type": "stream",
          "name": "stdout",
          "text": [
            "[[-0.00599412]\n",
            " [-0.00599299]\n",
            " [-0.00054739]\n",
            " [ 0.00595065]\n",
            " [ 0.00595148]\n",
            " [ 0.00602132]\n",
            " [ 0.00602282]\n",
            " [ 0.00116779]\n",
            " [ 0.00116576]\n",
            " [-0.00599479]\n",
            " [-0.00599364]\n",
            " [-0.00054672]\n",
            " [-0.00054559]\n",
            " [-0.00054835]\n",
            " [ 0.00595208]\n",
            " [ 0.00594932]\n",
            " [ 0.0060248 ]\n",
            " [ 0.00602137]\n",
            " [ 0.00116747]\n",
            " [ 0.00116792]]\n"
          ]
        }
      ]
    },
    {
      "cell_type": "code",
      "source": [
        "Nz = 2 * (A31*x + A32*y + A33*z + A34)\n",
        "Nz = np.array(Nz).reshape(20,1)\n",
        "print(Nz)"
      ],
      "metadata": {
        "colab": {
          "base_uri": "https://localhost:8080/"
        },
        "id": "wH5SNDB0ETSG",
        "outputId": "201c5371-a653-4a51-a29d-46dde4e58a01"
      },
      "execution_count": null,
      "outputs": [
        {
          "output_type": "stream",
          "name": "stdout",
          "text": [
            "[[ 2.19320206e-06]\n",
            " [ 1.81446856e-08]\n",
            " [ 4.45982979e-07]\n",
            " [ 8.47644217e-07]\n",
            " [-2.39441300e-06]\n",
            " [-1.91703234e-07]\n",
            " [-2.33225043e-06]\n",
            " [ 1.48815500e-06]\n",
            " [-6.86168034e-07]\n",
            " [ 1.09139476e-06]\n",
            " [-1.04920806e-06]\n",
            " [ 1.54781383e-06]\n",
            " [-6.27208979e-07]\n",
            " [-1.69437619e-06]\n",
            " [-2.54092637e-07]\n",
            " [-1.32680918e-06]\n",
            " [ 9.09791533e-07]\n",
            " [-1.26455798e-06]\n",
            " [ 3.86598770e-07]\n",
            " [-1.75376176e-06]]\n"
          ]
        }
      ]
    },
    {
      "cell_type": "code",
      "source": [
        "a = A11*Nx**2 + A22*Ny**2 + A33*Nz**2+2*(A12*Nx*Ny + A13*Nx*Nz + A23*Ny*Nz)\n",
        "print(a)"
      ],
      "metadata": {
        "colab": {
          "base_uri": "https://localhost:8080/"
        },
        "id": "pfSHlPB9IW1V",
        "outputId": "839b3fa3-59bd-47bc-cd5e-e36d44dd9d79"
      },
      "execution_count": null,
      "outputs": [
        {
          "output_type": "stream",
          "name": "stdout",
          "text": [
            "[[8.64200782e-09]\n",
            " [8.63678599e-09]\n",
            " [8.64019370e-09]\n",
            " [8.63575228e-09]\n",
            " [8.63681263e-09]\n",
            " [8.63742484e-09]\n",
            " [8.64207332e-09]\n",
            " [8.64175147e-09]\n",
            " [8.64375171e-09]\n",
            " [8.64064774e-09]\n",
            " [8.64077930e-09]\n",
            " [8.63934358e-09]\n",
            " [8.64143277e-09]\n",
            " [8.64355040e-09]\n",
            " [8.63821348e-09]\n",
            " [8.62963974e-09]\n",
            " [8.64248273e-09]\n",
            " [8.63804138e-09]\n",
            " [8.63835114e-09]\n",
            " [8.64221432e-09]]\n"
          ]
        }
      ]
    },
    {
      "cell_type": "code",
      "source": [
        "b = Nx**2+Ny**2+Nz**2\n",
        "print(b)"
      ],
      "metadata": {
        "colab": {
          "base_uri": "https://localhost:8080/"
        },
        "id": "AutrKyNFJiJz",
        "outputId": "e552ed84-b37c-4f95-d3dc-a00d063ada65"
      },
      "execution_count": null,
      "outputs": [
        {
          "output_type": "stream",
          "name": "stdout",
          "text": [
            "[[4.92597011e-05]\n",
            " [4.92299379e-05]\n",
            " [4.92462982e-05]\n",
            " [4.92381480e-05]\n",
            " [4.92441947e-05]\n",
            " [4.92337210e-05]\n",
            " [4.92602196e-05]\n",
            " [4.92540703e-05]\n",
            " [4.92654722e-05]\n",
            " [4.92519522e-05]\n",
            " [4.92526987e-05]\n",
            " [4.92414563e-05]\n",
            " [4.92533643e-05]\n",
            " [4.92654313e-05]\n",
            " [4.92521793e-05]\n",
            " [4.92032952e-05]\n",
            " [4.92625622e-05]\n",
            " [4.92372347e-05]\n",
            " [4.92346879e-05]\n",
            " [4.92567086e-05]]\n"
          ]
        }
      ]
    },
    {
      "cell_type": "code",
      "source": [
        "c = A11*x**2 + A22*y**2 + A33*z**2 + 2*A12*x*y + 2*A13*x*z + 2*A23*y*z + 2*A14*x + 2*A24*y + 2*A34*z + 1\n",
        "c = c.reshape(20,1)\n",
        "print(c)"
      ],
      "metadata": {
        "colab": {
          "base_uri": "https://localhost:8080/"
        },
        "id": "sdwy3gVAJteB",
        "outputId": "33eceac1-aaf1-4229-d6fa-c9157c9d02ff"
      },
      "execution_count": null,
      "outputs": [
        {
          "output_type": "stream",
          "name": "stdout",
          "text": [
            "[[ 8.53286066e-06]\n",
            " [-1.82363063e-05]\n",
            " [ 2.11525492e-06]\n",
            " [-2.06567649e-06]\n",
            " [ 3.15836724e-06]\n",
            " [-1.12374787e-05]\n",
            " [ 6.09276747e-06]\n",
            " [-5.42137790e-06]\n",
            " [ 2.64549880e-05]\n",
            " [ 1.45406215e-05]\n",
            " [-4.82333140e-06]\n",
            " [-2.18210817e-05]\n",
            " [ 1.07834624e-05]\n",
            " [ 8.95062044e-06]\n",
            " [ 3.49657440e-05]\n",
            " [-3.61214870e-05]\n",
            " [ 1.28381826e-05]\n",
            " [-7.63908840e-06]\n",
            " [-1.60080358e-05]\n",
            " [-5.05375777e-06]]\n"
          ]
        }
      ]
    },
    {
      "cell_type": "code",
      "source": [
        "delta = b**2 - 4*a*c\n",
        "print(delta)"
      ],
      "metadata": {
        "colab": {
          "base_uri": "https://localhost:8080/"
        },
        "id": "Lmh2LnAZLZvn",
        "outputId": "1f93440c-80fb-4680-ba60-9445152aea55"
      },
      "execution_count": null,
      "outputs": [
        {
          "output_type": "stream",
          "name": "stdout",
          "text": [
            "[[2.42622319e-09]\n",
            " [2.42421680e-09]\n",
            " [2.42512478e-09]\n",
            " [2.42446657e-09]\n",
            " [2.42488160e-09]\n",
            " [2.42434754e-09]\n",
            " [2.42635862e-09]\n",
            " [2.42615085e-09]\n",
            " [2.42617207e-09]\n",
            " [2.42525223e-09]\n",
            " [2.42599504e-09]\n",
            " [2.42547510e-09]\n",
            " [2.42552116e-09]\n",
            " [2.42677326e-09]\n",
            " [2.42456900e-09]\n",
            " [2.42221112e-09]\n",
            " [2.42635622e-09]\n",
            " [2.42456923e-09]\n",
            " [2.42460763e-09]\n",
            " [2.42639805e-09]]\n"
          ]
        }
      ]
    },
    {
      "cell_type": "code",
      "source": [
        "t1 = ((-b**2) - np.sqrt(delta))/(2*a)\n",
        "print(t1)"
      ],
      "metadata": {
        "colab": {
          "base_uri": "https://localhost:8080/"
        },
        "id": "NPyUNSiPKnQO",
        "outputId": "195b8477-1bbd-4b67-8027-30484d5d7521"
      },
      "execution_count": null,
      "outputs": [
        {
          "output_type": "stream",
          "name": "stdout",
          "text": [
            "[[-2849.98200878]\n",
            " [-2850.52563743]\n",
            " [-2849.93501686]\n",
            " [-2851.0137478 ]\n",
            " [-2850.90773014]\n",
            " [-2850.39167811]\n",
            " [-2850.03994602]\n",
            " [-2850.02402664]\n",
            " [-2849.37703425]\n",
            " [-2849.86017161]\n",
            " [-2850.25315398]\n",
            " [-2850.42126755]\n",
            " [-2849.75926394]\n",
            " [-2849.79639346]\n",
            " [-2850.26172329]\n",
            " [-2851.70566124]\n",
            " [-2849.90353635]\n",
            " [-2850.31855551]\n",
            " [-2850.23890321]\n",
            " [-2850.01658145]]\n"
          ]
        }
      ]
    },
    {
      "cell_type": "code",
      "source": [
        "t2 = ((-b**2) + np.sqrt(delta))/(2*a)\n",
        "print(t2)"
      ],
      "metadata": {
        "colab": {
          "base_uri": "https://localhost:8080/"
        },
        "id": "bg3Lo_Y0L_SZ",
        "outputId": "27333f81-2366-4714-edb2-3ac9e3961d34"
      },
      "execution_count": null,
      "outputs": [
        {
          "output_type": "stream",
          "name": "stdout",
          "text": [
            "[[2849.70122702]\n",
            " [2850.24502531]\n",
            " [2849.65432896]\n",
            " [2850.73300848]\n",
            " [2850.62695633]\n",
            " [2850.11104362]\n",
            " [2849.75916048]\n",
            " [2849.74330074]\n",
            " [2849.09624336]\n",
            " [2849.579434  ]\n",
            " [2849.97241213]\n",
            " [2850.14060722]\n",
            " [2849.47853574]\n",
            " [2849.5155965 ]\n",
            " [2849.98090398]\n",
            " [2851.42512064]\n",
            " [2849.6227374 ]\n",
            " [2850.037901  ]\n",
            " [2849.9582878 ]\n",
            " [2849.73584052]]\n"
          ]
        }
      ]
    },
    {
      "cell_type": "code",
      "source": [
        "sigma = np.sqrt((t2*Nx)**2 + (t2*Ny)**2 + (t2*Nz)**2)\n",
        "print(sigma)"
      ],
      "metadata": {
        "colab": {
          "base_uri": "https://localhost:8080/"
        },
        "id": "fgVmI3bxL_mV",
        "outputId": "bd34fda3-23c7-4cdb-b330-391c83fa8163"
      },
      "execution_count": null,
      "outputs": [
        {
          "output_type": "stream",
          "name": "stdout",
          "text": [
            "[[20.00070092]\n",
            " [19.9984732 ]\n",
            " [19.99765065]\n",
            " [20.00356487]\n",
            " [20.0040489 ]\n",
            " [19.99830148]\n",
            " [20.00121279]\n",
            " [19.99985304]\n",
            " [19.99762615]\n",
            " [19.99827298]\n",
            " [20.00118247]\n",
            " [20.00007987]\n",
            " [19.99785156]\n",
            " [20.00056125]\n",
            " [20.00113661]\n",
            " [20.00133877]\n",
            " [20.00073084]\n",
            " [19.99850184]\n",
            " [19.997426  ]\n",
            " [20.00033632]]\n"
          ]
        }
      ]
    },
    {
      "cell_type": "markdown",
      "source": [
        "\n",
        "**Algebraic distances**"
      ],
      "metadata": {
        "id": "7NA7RvuQWi5c"
      }
    },
    {
      "cell_type": "code",
      "source": [
        "def equation_loop( x_vals, y_vals, z_vals):\n",
        "    result = []\n",
        "    for i in range(len(x_vals)):\n",
        "        x1, y1, z1 = x_vals[i], y_vals[i], z_vals[i]\n",
        "        det = A11*A22*A33 + 2*A12*A13*A23 + A11*A23**2 + A22*A13**2 + A33*A12**2 - A11*A22*z1**2 - A22*A33*x1**2 - A33*A11*y1**2 - 2*A12*A23*x1*y1 - 2*A13*A23*y1*z1 - 2*A12*A13*x1*z1 + 2*A41*A23*z1 \\\n",
        "        + 2*A41*A13*y1 + 2*A42*A12*z1 + 2*A42*A23*x1 + 2*A43*A13*x1 + 2*A43*A12*y1\n",
        "        result.append(det)\n",
        "    return (result)\n",
        "\n",
        "L=np.array(equation_loop(x,y,z)).reshape(20,1)\n",
        "print(L)\n"
      ],
      "metadata": {
        "colab": {
          "base_uri": "https://localhost:8080/"
        },
        "id": "seycIuDk6e_O",
        "outputId": "cc024770-6a9c-4949-d9ba-c029739124ef"
      },
      "execution_count": null,
      "outputs": [
        {
          "output_type": "stream",
          "name": "stdout",
          "text": [
            "[[ 3.45886121e-08]\n",
            " [-3.45955318e-05]\n",
            " [-8.85710043e-06]\n",
            " [ 5.66311935e-08]\n",
            " [-7.68947096e-05]\n",
            " [-8.81618956e-06]\n",
            " [-7.68801952e-05]\n",
            " [ 7.75686762e-08]\n",
            " [-3.45525550e-05]\n",
            " [-8.85680429e-06]\n",
            " [-7.69198367e-05]\n",
            " [ 3.53442436e-08]\n",
            " [-3.45947820e-05]\n",
            " [-7.69221648e-05]\n",
            " [-8.83475859e-06]\n",
            " [-3.45734892e-05]\n",
            " [ 7.73015183e-08]\n",
            " [-3.45507605e-05]\n",
            " [-8.81487680e-06]\n",
            " [-7.68737751e-05]]\n"
          ]
        }
      ]
    }
  ]
}